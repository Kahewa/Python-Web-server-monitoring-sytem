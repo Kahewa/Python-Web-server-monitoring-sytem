import time
import requests

urls = [
    'https://www.namibiansun.com/',
    'https://www.republikein.com.na/',
    'http://www.gracecourttake-away.com.au'
]

for url in urls:
    try:
        start_time = time.time()
        response = requests.get(url)
        response_time = time.time() - start_time

        if response.status_code == 200:
            print(f"Status for {url}: Active (HTTP 200)")
        else:
            print(f"Status for {url}: Not Active (HTTP {response.status_code})")

        print(f"Response Time for {url}: {response_time:.4f} seconds\n")

    except requests.RequestException as e:
        print(f"Error for {url}: {e}\n")
